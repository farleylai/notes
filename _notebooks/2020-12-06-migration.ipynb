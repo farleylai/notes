{
  "nbformat": 4,
  "nbformat_minor": 0,
  "metadata": {
    "colab": {
      "name": "2020-12-06-migration.ipynb",
      "provenance": [],
      "authorship_tag": "ABX9TyO7+n1pkFdn/LyvJNuSBZ2Q"
    },
    "kernelspec": {
      "name": "python3",
      "display_name": "Python 3"
    },
    "accelerator": "GPU"
  },
  "cells": [
    {
      "cell_type": "markdown",
      "metadata": {
        "id": "vR35NFSfA4dp"
      },
      "source": [
        "# Migration to fastpages Backend\n",
        "> Highlights of the migration.\n",
        "\n",
        "- hide: false\n",
        "- toc: false \n",
        "- badges: true\n",
        "- comments: true\n",
        "- categories: [jupyter]"
      ]
    },
    {
      "cell_type": "markdown",
      "metadata": {
        "id": "-ja0cTzfC7sD"
      },
      "source": [
        "## Seamless Deployment on GitHub Pages\n",
        "\n",
        "Built with [fastpages](https://github.com/fastai/fastpages), an easy to use blogging platform with extra features for Jupyter Notebooks.\n",
        "\n",
        "![]({{site.baseurl}}/images/diagram.png \"https://github.com/fastai/fastpages\")\n",
        "\n",
        "[fastpages](https://github.com/fastai/fastpages) automates the process of creating blog posts via GitHub Actions, so you don't have to fuss with conversion scripts.  A full list of features can be found on [GitHub](https://github.com/fastai/fastpages).  \n",
        "\n",
        "In summary, fastpages facilitates automatic deployment with GitHub Actions.\n",
        "There is no need for a dedicated `<username>.github.io` repo."
      ]
    },
    {
      "cell_type": "markdown",
      "metadata": {
        "id": "FV3O_8nMIJAi"
      },
      "source": [
        "## Editing on Google/Colab with Access to GPU/TPU\n",
        "\n",
        "Each post can be either in Jupyter notebook or markdown.\n",
        "If in Jupyter notebook, the editing and running are well integrated with Google/Colab, implying interactive computation with access to GPU/TPU for free as follows."
      ]
    },
    {
      "cell_type": "code",
      "metadata": {
        "colab": {
          "base_uri": "https://localhost:8080/"
        },
        "id": "tUZ-urPUDA5_",
        "outputId": "e155100b-47c3-4c17-a758-861183782327"
      },
      "source": [
        "import torch\n",
        "\n",
        "!nvidia-smi\n",
        "print(f\"torch.cuda.device_count(): {torch.cuda.device_count()}\")"
      ],
      "execution_count": 1,
      "outputs": [
        {
          "output_type": "stream",
          "text": [
            "Sun Dec  6 19:16:52 2020       \n",
            "+-----------------------------------------------------------------------------+\n",
            "| NVIDIA-SMI 455.45.01    Driver Version: 418.67       CUDA Version: 10.1     |\n",
            "|-------------------------------+----------------------+----------------------+\n",
            "| GPU  Name        Persistence-M| Bus-Id        Disp.A | Volatile Uncorr. ECC |\n",
            "| Fan  Temp  Perf  Pwr:Usage/Cap|         Memory-Usage | GPU-Util  Compute M. |\n",
            "|                               |                      |               MIG M. |\n",
            "|===============================+======================+======================|\n",
            "|   0  Tesla P4            Off  | 00000000:00:04.0 Off |                    0 |\n",
            "| N/A   33C    P8     7W /  75W |      0MiB /  7611MiB |      0%      Default |\n",
            "|                               |                      |                 ERR! |\n",
            "+-------------------------------+----------------------+----------------------+\n",
            "                                                                               \n",
            "+-----------------------------------------------------------------------------+\n",
            "| Processes:                                                                  |\n",
            "|  GPU   GI   CI        PID   Type   Process name                  GPU Memory |\n",
            "|        ID   ID                                                   Usage      |\n",
            "|=============================================================================|\n",
            "|  No running processes found                                                 |\n",
            "+-----------------------------------------------------------------------------+\n",
            "torch.cuda.device_count(): 1\n"
          ],
          "name": "stdout"
        }
      ]
    }
  ]
}