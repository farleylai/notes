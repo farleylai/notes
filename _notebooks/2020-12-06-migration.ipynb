{
  "nbformat": 4,
  "nbformat_minor": 0,
  "metadata": {
    "kernelspec": {
      "display_name": "visualization-curriculum-gF8wUgMm",
      "language": "python",
      "name": "visualization-curriculum-gf8wugmm"
    },
    "language_info": {
      "codemirror_mode": {
        "name": "ipython",
        "version": 3
      },
      "file_extension": ".py",
      "mimetype": "text/x-python",
      "name": "python",
      "nbconvert_exporter": "python",
      "pygments_lexer": "ipython3",
      "version": "3.6.7"
    },
    "varInspector": {
      "cols": {
        "lenName": 16,
        "lenType": 16,
        "lenVar": 40
      },
      "kernels_config": {
        "python": {
          "delete_cmd_postfix": "",
          "delete_cmd_prefix": "del ",
          "library": "var_list.py",
          "varRefreshCmd": "print(var_dic_list())"
        },
        "r": {
          "delete_cmd_postfix": ") ",
          "delete_cmd_prefix": "rm(",
          "library": "var_list.r",
          "varRefreshCmd": "cat(var_dic_list()) "
        }
      },
      "types_to_exclude": [
        "module",
        "function",
        "builtin_function_or_method",
        "instance",
        "_Feature"
      ],
      "window_display": false
    },
    "colab": {
      "name": "2020-02-20-test.ipynb",
      "provenance": []
    },
    "accelerator": "GPU"
  },
  "cells": [
    {
      "cell_type": "markdown",
      "metadata": {
        "id": "vR35NFSfA4dp"
      },
      "source": [
        "# Migration to fastpages Backend\n",
        "> Highlights of the migration.\n",
        "\n",
        "- hide: false\n",
        "- toc: false \n",
        "- badges: true\n",
        "- comments: true\n",
        "- categories: [jupyter]"
      ]
    },
    {
      "cell_type": "markdown",
      "metadata": {
        "id": "-ja0cTzfC7sD"
      },
      "source": [
        "## Seamless Deployment on GitHub Pages\n",
        "\n",
        "Built with [fastpages](https://github.com/fastai/fastpages), an easy to use blogging platform with extra features for Jupyter Notebooks.\n",
        "\n",
        "![]({{site.baseurl}}/images/diagram.png \"https://github.com/fastai/fastpages\")\n",
        "\n",
        "[fastpages](https://github.com/fastai/fastpages) automates the process of creating blog posts via GitHub Actions, so you don't have to fuss with conversion scripts.  A full list of features can be found on [GitHub](https://github.com/fastai/fastpages).  \n",
        "\n",
        "In summary, fastpages facilitates automatic deployment with GitHub Actions.\n",
        "There is no need for a dedicated `<username>.github.io` repo."
      ]
    },
    {
      "cell_type": "markdown",
      "metadata": {
        "id": "FV3O_8nMIJAi"
      },
      "source": [
        "## Editing on Google/Colab with Access to GPU/TPU\n",
        "\n",
        "Each post can be either in Jupyter notebook or markdown.\n",
        "If in Jupyter notebook, the editing and running are well integrated with Google/Colab, implying interactive computation with access to GPU/TPU for free as follows."
      ]
    },
    {
      "cell_type": "code",
      "metadata": {
        "colab": {
          "base_uri": "https://localhost:8080/"
        },
        "id": "tUZ-urPUDA5_",
        "outputId": "9110b574-6ea5-4392-c42f-3a7d2898bae1"
      },
      "source": [
        "import torch\n",
        "\n",
        "!nvidia-smi\n",
        "print(f\"torch.cuda.device_count(): {torch.cuda.device_count()}\")"
      ],
      "execution_count": null,
      "outputs": [
        {
          "output_type": "stream",
          "text": [
            "Sun Dec  6 07:56:38 2020       \n",
            "+-----------------------------------------------------------------------------+\n",
            "| NVIDIA-SMI 455.45.01    Driver Version: 418.67       CUDA Version: 10.1     |\n",
            "|-------------------------------+----------------------+----------------------+\n",
            "| GPU  Name        Persistence-M| Bus-Id        Disp.A | Volatile Uncorr. ECC |\n",
            "| Fan  Temp  Perf  Pwr:Usage/Cap|         Memory-Usage | GPU-Util  Compute M. |\n",
            "|                               |                      |               MIG M. |\n",
            "|===============================+======================+======================|\n",
            "|   0  Tesla T4            Off  | 00000000:00:04.0 Off |                    0 |\n",
            "| N/A   64C    P8    11W /  70W |      0MiB / 15079MiB |      0%      Default |\n",
            "|                               |                      |                 ERR! |\n",
            "+-------------------------------+----------------------+----------------------+\n",
            "                                                                               \n",
            "+-----------------------------------------------------------------------------+\n",
            "| Processes:                                                                  |\n",
            "|  GPU   GI   CI        PID   Type   Process name                  GPU Memory |\n",
            "|        ID   ID                                                   Usage      |\n",
            "|=============================================================================|\n",
            "|  No running processes found                                                 |\n",
            "+-----------------------------------------------------------------------------+\n",
            "torch.cuda.device_count(): 1\n"
          ],
          "name": "stdout"
        }
      ]
    }
  ]
}