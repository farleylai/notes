{
  "nbformat": 4,
  "nbformat_minor": 0,
  "metadata": {
    "colab": {
      "name": "2021-01-09-detection_metrics.ipynb",
      "provenance": [],
      "authorship_tag": "ABX9TyPyEHrYc1oKL9JaVzGAYJCv"
    },
    "kernelspec": {
      "name": "python3",
      "display_name": "Python 3"
    },
    "accelerator": "GPU"
  },
  "cells": [
    {
      "cell_type": "markdown",
      "metadata": {
        "id": "uOEu4B15oDMh"
      },
      "source": [
        "# Object Detection Metrics and Their Use Cases\n",
        "> A comparison study\n",
        "\n",
        "- hide: true\n",
        "- toc: true \n",
        "- badges: true\n",
        "- comments: true\n",
        "- categories: [computer vision, object detection]"
      ]
    },
    {
      "cell_type": "markdown",
      "metadata": {
        "id": "Cyb5U_PtDrfe"
      },
      "source": [
        "mAP\n",
        "\n",
        "mmAP\n",
        "\n",
        "References\n",
        "\n",
        "[淺析經典目標檢測評價指標--mmAP（一）](https://zhuanlan.zhihu.com/p/55575423)  \n",
        "[淺析經典目標檢測評價指標--mmAP（二）](https://zhuanlan.zhihu.com/p/56899189)\n"
      ]
    }
  ]
}