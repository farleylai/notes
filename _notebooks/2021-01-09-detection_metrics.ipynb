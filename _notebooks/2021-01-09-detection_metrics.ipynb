{
  "nbformat": 4,
  "nbformat_minor": 0,
  "metadata": {
    "colab": {
      "name": "2021-01-09-detection_metrics.ipynb",
      "provenance": [],
      "authorship_tag": "ABX9TyN2axI3k6686UEXN13VzBS7"
    },
    "kernelspec": {
      "name": "python3",
      "display_name": "Python 3"
    }
  },
  "cells": [
    {
      "cell_type": "code",
      "metadata": {
        "id": "ycBYkHp1emKL"
      },
      "source": [
        "> Object detection metrics and their use cases.\n",
        "\n",
        "- hide: true\n",
        "- toc: true \n",
        "- badges: true\n",
        "- comments: true\n",
        "- categories: [computer vision, object detection]"
      ],
      "execution_count": null,
      "outputs": []
    }
  ]
}