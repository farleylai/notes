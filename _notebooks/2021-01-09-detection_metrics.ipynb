{
  "nbformat": 4,
  "nbformat_minor": 0,
  "metadata": {
    "colab": {
      "name": "2021-01-09-detection_metrics.ipynb",
      "provenance": [],
      "authorship_tag": "ABX9TyOvN4D6jlB0jx60rsdyUcX2"
    },
    "kernelspec": {
      "name": "python3",
      "display_name": "Python 3"
    },
    "accelerator": "GPU"
  },
  "cells": [
    {
      "cell_type": "markdown",
      "metadata": {
        "id": "uOEu4B15oDMh"
      },
      "source": [
        "# Object Detection Metrics and Their Use Cases\n",
        "> A comparison study\n",
        "\n",
        "- hide: true\n",
        "- toc: true \n",
        "- badges: true\n",
        "- comments: true\n",
        "- categories: [computer vision, object detection]"
      ]
    }
  ]
}