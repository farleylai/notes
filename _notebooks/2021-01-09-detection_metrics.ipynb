{
  "nbformat": 4,
  "nbformat_minor": 0,
  "metadata": {
    "colab": {
      "name": "2021-01-09-detection_metrics.ipynb",
      "provenance": [],
      "authorship_tag": "ABX9TyP5Lq6FyT53bPjt/sJ9j6DA"
    },
    "kernelspec": {
      "name": "python3",
      "display_name": "Python 3"
    }
  },
  "cells": [
    {
      "cell_type": "code",
      "metadata": {
        "id": "ycBYkHp1emKL"
      },
      "source": [
        "# Object Detection Metrics and Their Use Cases\n",
        ">\n",
        "\n",
        "- hide: true\n",
        "- toc: true \n",
        "- badges: true\n",
        "- comments: true\n",
        "- categories: [computer vision, object detection]"
      ],
      "execution_count": null,
      "outputs": []
    }
  ]
}