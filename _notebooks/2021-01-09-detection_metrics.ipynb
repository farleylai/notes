{
  "nbformat": 4,
  "nbformat_minor": 0,
  "metadata": {
    "colab": {
      "name": "2021-01-09-detection_metrics.ipynb",
      "provenance": [],
      "authorship_tag": "ABX9TyPjDIVkMthgZOCJL/8M4ggf"
    },
    "kernelspec": {
      "name": "python3",
      "display_name": "Python 3"
    },
    "accelerator": "GPU"
  },
  "cells": [
    {
      "cell_type": "code",
      "metadata": {
        "id": "ycBYkHp1emKL",
        "colab": {
          "base_uri": "https://localhost:8080/",
          "height": 130
        },
        "outputId": "6d45a774-a7b0-419a-9a1b-eed5fd5f62ce"
      },
      "source": [
        "# Object Detection Metrics and Their Use Cases\n",
        "> Comparison study of object detection metrics.\n",
        "\n",
        "- hide: true\n",
        "- toc: true \n",
        "- badges: true\n",
        "- comments: true\n",
        "- categories: [computer vision, object detection]"
      ],
      "execution_count": 1,
      "outputs": [
        {
          "output_type": "error",
          "ename": "SyntaxError",
          "evalue": "ignored",
          "traceback": [
            "\u001b[0;36m  File \u001b[0;32m\"<ipython-input-1-b3430a8a399c>\"\u001b[0;36m, line \u001b[0;32m2\u001b[0m\n\u001b[0;31m    > Comparison study of object detection metrics.\u001b[0m\n\u001b[0m    ^\u001b[0m\n\u001b[0;31mSyntaxError\u001b[0m\u001b[0;31m:\u001b[0m invalid syntax\n"
          ]
        }
      ]
    }
  ]
}